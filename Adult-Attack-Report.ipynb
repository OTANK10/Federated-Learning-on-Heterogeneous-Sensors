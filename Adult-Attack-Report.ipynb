{
 "cells": [
  {
   "cell_type": "code",
   "execution_count": 1,
   "metadata": {},
   "outputs": [],
   "source": [
    "import os\n",
    "import random\n",
    "from random import shuffle\n",
    "import matplotlib.pyplot as plt\n",
    "import numpy as np\n",
    "import pandas as pd\n",
    "import torch\n",
    "from fedlab.contrib.dataset.adult import Adult\n",
    "from fedlab.utils.dataset.partition import AdultPartitioner\n",
    "from torch.utils.data import DataLoader, Subset"
   ]
  },
  {
   "cell_type": "code",
   "execution_count": 4,
   "metadata": {},
   "outputs": [],
   "source": [
    "class TransformedAdult(Adult):\n",
    "    def __init__(self, root, train=False, download=True, transform=None):\n",
    "        super().__init__(root, train, download)\n",
    "        self.transform = transform\n",
    "\n",
    "    def __getitem__(self, index):\n",
    "        features, target = self.data[index], self.targets[index]\n",
    "        if self.transform:\n",
    "            features = self.transform(features)\n",
    "\n",
    "        return torch.tensor(features, dtype=torch.float32), torch.tensor(\n",
    "            target, dtype=torch.int64\n",
    "        )\n",
    "\n",
    "\n",
    "class TabularTransform:\n",
    "    def __init__(self, noise_std=0.01, feature_scaling=True):\n",
    "        self.noise_std = noise_std\n",
    "        self.feature_scaling = feature_scaling\n",
    "\n",
    "    def __call__(self, features):\n",
    "        features = features + np.random.normal(0, self.noise_std, size=features.shape)\n",
    "        if self.feature_scaling:\n",
    "            features = (features - features.min(axis=0)) / (\n",
    "                features.max(axis=0) - features.min(axis=0) + 1e-8\n",
    "            )\n",
    "\n",
    "        return features"
   ]
  },
  {
   "cell_type": "code",
   "execution_count": 5,
   "metadata": {},
   "outputs": [
    {
     "name": "stdout",
     "output_type": "stream",
     "text": [
      "Local file path_to_data\\adult-a9a\\a9a loaded.\n",
      "Local file path_to_data\\adult-a9a\\a9a.t loaded.\n"
     ]
    }
   ],
   "source": [
    "# Dataset and Partitioner\n",
    "transform = TabularTransform(noise_std=0.05, feature_scaling=True)\n",
    "\n",
    "dataset_path = os.path.join(\"path_to_data\", \"adult-a9a\")\n",
    "trainset = TransformedAdult(\n",
    "    dataset_path, train=True, download=True, transform=transform\n",
    ")\n",
    "testset = TransformedAdult(\n",
    "    dataset_path, train=False, download=True, transform=transform\n",
    ")"
   ]
  },
  {
   "cell_type": "code",
   "execution_count": 6,
   "metadata": {},
   "outputs": [],
   "source": [
    "# Parameters\n",
    "num_clients = 10\n",
    "seed = 2021\n",
    "alpha_values = [0.1, 0.3, 1.0, 5.0, 10.0]"
   ]
  },
  {
   "cell_type": "code",
   "execution_count": 7,
   "metadata": {},
   "outputs": [],
   "source": [
    "# Generate partitions\n",
    "partitions = {}\n",
    "for alpha in alpha_values:\n",
    "    partitions[f\"Dirichlet_alpha_{alpha}\"] = AdultPartitioner(\n",
    "        trainset.targets,\n",
    "        num_clients=num_clients,\n",
    "        partition=\"noniid-labeldir\",\n",
    "        dir_alpha=alpha,\n",
    "        seed=seed,\n",
    "    )"
   ]
  },
  {
   "cell_type": "code",
   "execution_count": 8,
   "metadata": {},
   "outputs": [],
   "source": [
    "def full_knowledge_trim_attack(client_dict, target_classes, trim_fraction, scarcity_clients):\n",
    "    adjusted_client_dict = {}\n",
    "    for client, indices in client_dict.items():\n",
    "        class_indices = {}\n",
    "        for idx in indices:\n",
    "            label = trainset.targets[idx]\n",
    "            if label not in class_indices:\n",
    "                class_indices[label] = []\n",
    "            class_indices[label].append(idx)\n",
    "\n",
    "        adjusted_indices = []\n",
    "        for label, label_indices in class_indices.items():\n",
    "            shuffle(label_indices)\n",
    "            if client in scarcity_clients and label in target_classes:\n",
    "                continue\n",
    "            elif label in target_classes:\n",
    "                trim_count = int(len(label_indices) * trim_fraction)\n",
    "                adjusted_indices.extend(label_indices[:trim_count])\n",
    "            else:\n",
    "                adjusted_indices.extend(label_indices)\n",
    "\n",
    "        adjusted_client_dict[client] = adjusted_indices\n",
    "\n",
    "    return adjusted_client_dict"
   ]
  },
  {
   "cell_type": "code",
   "execution_count": 9,
   "metadata": {},
   "outputs": [],
   "source": [
    "target_classes = [0, 1]\n",
    "initial_scarcity_fraction = 0.3\n",
    "scarcity_increment = 0.05\n",
    "\n",
    "attack_results = {}\n",
    "for name, part in partitions.items():\n",
    "    alpha = float(name.split(\"_\")[-1])\n",
    "    trim_fraction = 0.7 + (alpha * 0.3)\n",
    "    scarcity_fraction = initial_scarcity_fraction + (scarcity_increment * alpha)\n",
    "\n",
    "    num_scarcity_clients = int(len(part.client_dict) * scarcity_fraction)\n",
    "    scarcity_clients = random.sample(\n",
    "        list(part.client_dict.keys()), num_scarcity_clients\n",
    "    )\n",
    "\n",
    "    adjusted_client_dict = full_knowledge_trim_attack(\n",
    "        part.client_dict, target_classes, trim_fraction, scarcity_clients\n",
    "    )\n",
    "    attack_results[name] = {\"adjusted_client_dict\": adjusted_client_dict}"
   ]
  },
  {
   "cell_type": "code",
   "execution_count": 10,
   "metadata": {},
   "outputs": [],
   "source": [
    "# Prepare DataLoaders\n",
    "def prepare_dataloader(client_dict, dataset, batch_size=32):\n",
    "    indices = [idx for client_indices in client_dict.values() for idx in client_indices]\n",
    "    subset = Subset(dataset, indices)\n",
    "    return DataLoader(subset, batch_size=batch_size, shuffle=True, drop_last=True)\n",
    "\n",
    "\n",
    "original_loaders = {\n",
    "    name: prepare_dataloader(part.client_dict, trainset)\n",
    "    for name, part in partitions.items()\n",
    "}\n",
    "attack_loaders = {\n",
    "    name: prepare_dataloader(result[\"adjusted_client_dict\"], trainset)\n",
    "    for name, result in attack_results.items()\n",
    "}"
   ]
  },
  {
   "cell_type": "code",
   "execution_count": 11,
   "metadata": {},
   "outputs": [],
   "source": [
    "class SimpleCNN(torch.nn.Module):\n",
    "    def __init__(self, input_dim, output_dim=2, num_filters=32, kernel_size=3):\n",
    "        super(SimpleCNN, self).__init__()\n",
    "        self.input_dim = input_dim\n",
    "        self.conv1 = torch.nn.Conv1d(1, num_filters, kernel_size=kernel_size, padding=1)\n",
    "        self.conv2 = torch.nn.Conv1d(\n",
    "            num_filters, num_filters, kernel_size=kernel_size, padding=1\n",
    "        )\n",
    "        self.pool = torch.nn.MaxPool1d(kernel_size=2)\n",
    "        self.fc1 = torch.nn.Linear((input_dim // 2) * num_filters, 128)\n",
    "        self.fc2 = torch.nn.Linear(128, output_dim)\n",
    "\n",
    "    def forward(self, x):\n",
    "        x = x.view(-1, 1, self.input_dim)\n",
    "        x = torch.nn.functional.relu(self.conv1(x))\n",
    "        x = self.pool(torch.nn.functional.relu(self.conv2(x)))\n",
    "        x = x.view(x.size(0), -1)\n",
    "        x = torch.nn.functional.relu(self.fc1(x))\n",
    "        x = self.fc2(x)\n",
    "        return x"
   ]
  },
  {
   "cell_type": "code",
   "execution_count": 12,
   "metadata": {},
   "outputs": [],
   "source": [
    "# Train and Evaluate\n",
    "def train_model(model, train_loader, test_loader, epochs=15, device=\"cpu\"):\n",
    "    model.to(device)\n",
    "    optimizer = torch.optim.Adam(model.parameters(), lr=0.001, weight_decay=1e-4)\n",
    "    criterion = torch.nn.CrossEntropyLoss()\n",
    "    scheduler = torch.optim.lr_scheduler.ReduceLROnPlateau(\n",
    "        optimizer, mode=\"min\", factor=0.1, patience=5\n",
    "    )\n",
    "\n",
    "    for epoch in range(epochs):\n",
    "        model.train()\n",
    "        epoch_loss = 0\n",
    "        for features, labels in train_loader:\n",
    "            features, labels = features.to(device), labels.to(device).long()\n",
    "            optimizer.zero_grad()\n",
    "            outputs = model(features)\n",
    "            loss = criterion(outputs, labels)\n",
    "            loss.backward()\n",
    "            optimizer.step()\n",
    "            epoch_loss += loss.item()\n",
    "        scheduler.step(epoch_loss / len(train_loader))\n",
    "\n",
    "    # Evaluate on test set\n",
    "    model.eval()\n",
    "    correct = 0\n",
    "    total = 0\n",
    "    with torch.no_grad():\n",
    "        for features, labels in test_loader:\n",
    "            features, labels = features.to(device), labels.to(device).long()\n",
    "            outputs = model(features)\n",
    "            _, predicted = torch.max(outputs, 1)\n",
    "            correct += (predicted == labels).sum().item()\n",
    "            total += labels.size(0)\n",
    "\n",
    "    return correct / total"
   ]
  },
  {
   "cell_type": "code",
   "execution_count": 13,
   "metadata": {
    "scrolled": true
   },
   "outputs": [
    {
     "name": "stdout",
     "output_type": "stream",
     "text": [
      "Evaluating Dirichlet_alpha_0.1 Partition...\n",
      "Evaluating Dirichlet_alpha_0.1 Partition Post-Attack...\n",
      "Evaluating Dirichlet_alpha_0.3 Partition...\n",
      "Evaluating Dirichlet_alpha_0.3 Partition Post-Attack...\n",
      "Evaluating Dirichlet_alpha_1.0 Partition...\n",
      "Evaluating Dirichlet_alpha_1.0 Partition Post-Attack...\n",
      "Evaluating Dirichlet_alpha_5.0 Partition...\n",
      "Evaluating Dirichlet_alpha_5.0 Partition Post-Attack...\n",
      "Evaluating Dirichlet_alpha_10.0 Partition...\n",
      "Evaluating Dirichlet_alpha_10.0 Partition Post-Attack...\n"
     ]
    },
    {
     "data": {
      "image/png": "[encoded data removed]",
      "text/plain": [
       "<Figure size 1000x600 with 1 Axes>"
      ]
     },
     "metadata": {},
     "output_type": "display_data"
    }
   ],
   "source": [
    "# Evaluate Results\n",
    "results = []\n",
    "device = \"cuda\" if torch.cuda.is_available() else \"cpu\"\n",
    "test_loader = DataLoader(testset, batch_size=32, shuffle=False)\n",
    "\n",
    "input_dim = trainset.data.shape[1]  # Adjust for Adult dataset input dimensions\n",
    "for name, train_loader in original_loaders.items():\n",
    "    print(f\"Evaluating {name} Partition...\")\n",
    "    model = SimpleCNN(input_dim=input_dim)\n",
    "    original_accuracy = train_model(\n",
    "        model, train_loader, test_loader, epochs=50, device=device\n",
    "    )\n",
    "\n",
    "    print(f\"Evaluating {name} Partition Post-Attack...\")\n",
    "    model = SimpleCNN(input_dim=input_dim)\n",
    "    post_attack_accuracy = train_model(\n",
    "        model, attack_loaders[name], test_loader, epochs=50, device=device\n",
    "    )\n",
    "\n",
    "    results.append(\n",
    "        {\n",
    "            \"Partition\": name,\n",
    "            \"Original Accuracy\": original_accuracy,\n",
    "            \"Post-Attack Accuracy\": post_attack_accuracy,\n",
    "        }\n",
    "    )\n",
    "\n",
    "# Plot Results\n",
    "results_df = pd.DataFrame(results)\n",
    "results_df.set_index(\"Partition\").plot(kind=\"bar\", figsize=(10, 6))\n",
    "plt.title(\"Adult Dataset Model Accuracy Before and After Full-Knowledge Trim Attack\")\n",
    "plt.ylabel(\"Accuracy\")\n",
    "plt.xlabel(\"Partition\")\n",
    "plt.savefig(\"FKTA_results_Adult.png\", dpi=300)\n",
    "plt.show()"
   ]
  },
  {
   "cell_type": "code",
   "execution_count": null,
   "metadata": {},
   "outputs": [],
   "source": []
  },
  {
   "cell_type": "code",
   "execution_count": null,
   "metadata": {},
   "outputs": [],
   "source": []
  },
  {
   "cell_type": "code",
   "execution_count": null,
   "metadata": {},
   "outputs": [],
   "source": []
  },
  {
   "cell_type": "code",
   "execution_count": null,
   "metadata": {},
   "outputs": [],
   "source": []
  }
 ],
 "metadata": {
  "kernelspec": {
   "display_name": "Python 3 (ipykernel)",
   "language": "python",
   "name": "python3"
  },
  "language_info": {
   "codemirror_mode": {
    "name": "ipython",
    "version": 3
   },
   "file_extension": ".py",
   "mimetype": "text/x-python",
   "name": "python",
   "nbconvert_exporter": "python",
   "pygments_lexer": "ipython3",
   "version": "3.12.4"
  }
 },
 "nbformat": 4,
 "nbformat_minor": 4
}
